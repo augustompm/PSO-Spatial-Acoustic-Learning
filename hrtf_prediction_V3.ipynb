{
 "cells": [
  {
   "cell_type": "markdown",
   "metadata": {},
   "source": [
    "# Predição HRTF com Random Forest\n",
    "\n",
    "Implementação usando parâmetros antropométricos da cabeça e orelha.\n",
    "Baseado em: Teng & Zhong (2023)"
   ]
  },
  {
   "cell_type": "markdown",
   "metadata": {},
   "source": [
    "## 1. Importação das bibliotecas"
   ]
  },
  {
   "cell_type": "code",
   "execution_count": 1,
   "metadata": {},
   "outputs": [
    {
     "name": "stderr",
     "output_type": "stream",
     "text": [
      "/home/augusto/.local/lib/python3.12/site-packages/matplotlib/projections/__init__.py:63: UserWarning: Unable to import Axes3D. This may be due to multiple versions of Matplotlib being installed (e.g. as a system package and as a pip package). As a result, the 3D projection is not available.\n",
      "  warnings.warn(\"Unable to import Axes3D. This may be due to multiple versions of \"\n"
     ]
    },
    {
     "name": "stdout",
     "output_type": "stream",
     "text": [
      "Diretório de dados: data/hutubs\n"
     ]
    }
   ],
   "source": [
    "# Bibliotecas necessárias\n",
    "import os\n",
    "import re\n",
    "import glob\n",
    "import numpy as np\n",
    "import pandas as pd\n",
    "import netCDF4\n",
    "import matplotlib.pyplot as plt\n",
    "import seaborn as sns\n",
    "from sklearn.ensemble import RandomForestRegressor\n",
    "from sklearn.metrics import mean_squared_error, r2_score\n",
    "import warnings\n",
    "warnings.filterwarnings('ignore')\n",
    "\n",
    "# Configurações visuais\n",
    "plt.rcParams['figure.figsize'] = (10, 6)\n",
    "plt.rcParams['font.size'] = 10\n",
    "sns.set_style(\"whitegrid\")\n",
    "\n",
    "# Seed para reproduzir resultados\n",
    "np.random.seed(42)\n",
    "\n",
    "# Caminho dos dados\n",
    "data_dir = \"data/hutubs\"\n",
    "print(f\"Diretório de dados: {data_dir}\")"
   ]
  },
  {
   "cell_type": "markdown",
   "metadata": {},
   "source": [
    "## 2. Carregamento dos dados antropométricos"
   ]
  },
  {
   "cell_type": "code",
   "execution_count": 2,
   "metadata": {},
   "outputs": [
    {
     "name": "stdout",
     "output_type": "stream",
     "text": [
      "Total de sujeitos: 96\n",
      "Parâmetros disponíveis: 37\n"
     ]
    }
   ],
   "source": [
    "# Leitura do arquivo CSV\n",
    "csv_file = os.path.join(data_dir, \"AntrhopometricMeasures.csv\")\n",
    "df = pd.read_csv(csv_file)\n",
    "df.columns = [c.strip() for c in df.columns]\n",
    "df[\"SubjectID\"] = df[\"SubjectID\"].astype(int)\n",
    "\n",
    "print(f\"Total de sujeitos: {len(df)}\")\n",
    "print(f\"Parâmetros disponíveis: {len(df.columns) - 1}\")"
   ]
  },
  {
   "cell_type": "markdown",
   "metadata": {},
   "source": [
    "## 3. Criação das features"
   ]
  },
  {
   "cell_type": "code",
   "execution_count": 3,
   "metadata": {},
   "outputs": [
    {
     "name": "stdout",
     "output_type": "stream",
     "text": [
      "Sujeitos válidos: 93\n",
      "Total de features: 23\n"
     ]
    }
   ],
   "source": [
    "# Função para criar features de cada orelha\n",
    "def create_features_for_ear(df, ear='L'):\n",
    "    features = pd.DataFrame()\n",
    "    features['SubjectID'] = df['SubjectID']\n",
    "    \n",
    "    # Parâmetros da cabeça\n",
    "    features['x1'] = df['x1']  # largura\n",
    "    features['x2'] = df['x2']  # altura\n",
    "    features['x3'] = df['x3']  # profundidade\n",
    "    features['x4'] = df['x4']  # offset pinna vertical\n",
    "    features['x5'] = df['x5']  # offset pinna horizontal\n",
    "    features['x16'] = df['x16']  # circunferência\n",
    "    \n",
    "    # Parâmetros da orelha\n",
    "    prefix = 'L_' if ear == 'L' else 'R_'\n",
    "    features['d1'] = df[f'{prefix}d1']\n",
    "    features['d2'] = df[f'{prefix}d2']\n",
    "    features['d3'] = df[f'{prefix}d3']\n",
    "    features['d4'] = df[f'{prefix}d4']\n",
    "    features['d5'] = df[f'{prefix}d5']\n",
    "    features['d6'] = df[f'{prefix}d6']\n",
    "    features['d7'] = df[f'{prefix}d7']\n",
    "    features['d8'] = df[f'{prefix}d8']\n",
    "    features['d9'] = df[f'{prefix}d9']\n",
    "    features['d10'] = df[f'{prefix}d10']\n",
    "    features['theta1'] = df[f'{prefix}theta1']\n",
    "    features['theta2'] = df[f'{prefix}theta2']\n",
    "    \n",
    "    # Cálculo das áreas\n",
    "    features['area_cavum'] = features['d1'] * features['d3'] / 2\n",
    "    features['area_cymba'] = features['d2'] * features['d3'] / 2\n",
    "    features['area_fossa'] = features['d4'] * features['d6'] / 2\n",
    "    features['area_pinna'] = features['d5'] * features['d6'] / 2\n",
    "    features['area_intertragal'] = features['d7'] * (features['d1'] + features['d3']) / 2\n",
    "    \n",
    "    return features\n",
    "\n",
    "# Criar datasets para cada orelha\n",
    "df_left = create_features_for_ear(df, 'L')\n",
    "df_right = create_features_for_ear(df, 'R')\n",
    "\n",
    "# Remover sujeitos com dados faltando\n",
    "df_left = df_left.dropna()\n",
    "df_right = df_right.dropna()\n",
    "\n",
    "feature_cols = [col for col in df_left.columns if col != 'SubjectID']\n",
    "print(f\"Sujeitos válidos: {len(df_left)}\")\n",
    "print(f\"Total de features: {len(feature_cols)}\")"
   ]
  },
  {
   "cell_type": "markdown",
   "metadata": {},
   "source": [
    "## 4. Processamento dos dados HRTF"
   ]
  },
  {
   "cell_type": "code",
   "execution_count": 4,
   "metadata": {},
   "outputs": [
    {
     "name": "stdout",
     "output_type": "stream",
     "text": [
      "Processando arquivos SOFA...\n",
      "Sujeitos válidos: 90\n",
      "Após exclusões: 90 sujeitos\n",
      "\n",
      "Divisão: 80 treino, 10 teste\n"
     ]
    }
   ],
   "source": [
    "# Parâmetros do processamento\n",
    "fs = 44100  # taxa de amostragem\n",
    "tgt_freqs = np.linspace(1000, 12000, 64, dtype=np.float32)  # 64 frequências\n",
    "pos_tgt = [(0,0), (40,0), (320,0), (0,30), (0,-30)]  # 5 posições\n",
    "\n",
    "# Cache para armazenar dados processados\n",
    "cache = {}\n",
    "\n",
    "# Processar arquivos SOFA\n",
    "print(\"Processando arquivos SOFA...\")\n",
    "for fp in glob.glob(os.path.join(data_dir, \"pp*_HRIRs_measured.sofa\")):\n",
    "    m = re.search(r\"pp(\\d+)_\", fp)\n",
    "    if not m:\n",
    "        continue\n",
    "    sid = int(m.group(1))\n",
    "    \n",
    "    if sid not in df_left.set_index('SubjectID').index:\n",
    "        continue\n",
    "    \n",
    "    try:\n",
    "        # Carregar arquivo SOFA\n",
    "        ds = netCDF4.Dataset(fp)\n",
    "        if \"Data.IR\" not in ds.variables or \"SourcePosition\" not in ds.variables:\n",
    "            ds.close()\n",
    "            continue\n",
    "        \n",
    "        ir = ds[\"Data.IR\"][:]\n",
    "        pos = ds[\"SourcePosition\"][:, :2]\n",
    "        ds.close()\n",
    "        \n",
    "        if ir.shape[0] < 440:\n",
    "            continue\n",
    "        \n",
    "        # Calcular FFT e extrair magnitude\n",
    "        orig_f = np.fft.rfftfreq(ir.shape[-1], 1/fs)\n",
    "        mask = (orig_f >= 1000) & (orig_f <= 12000)\n",
    "        band_f = orig_f[mask]\n",
    "        \n",
    "        # Encontrar índices das posições alvo\n",
    "        idx_map = [np.argmin(np.sum((pos - p)**2, axis=1)) for p in pos_tgt]\n",
    "        \n",
    "        # Processar cada orelha\n",
    "        for ear in (0,1):\n",
    "            mag = np.abs(np.fft.rfft(ir[:, ear, :], axis=-1)) + 1e-10\n",
    "            mag_db = 20*np.log10(mag[:, mask])\n",
    "            \n",
    "            # Armazenar dados interpolados\n",
    "            for k, pidx in enumerate(idx_map):\n",
    "                cache[(sid, ear, k)] = np.interp(\n",
    "                    tgt_freqs, band_f, mag_db[pidx]).astype(np.float32)\n",
    "    except Exception as e:\n",
    "        continue\n",
    "\n",
    "# Sujeitos válidos\n",
    "valid_sids = sorted({sid for (sid,_,_) in cache})\n",
    "print(f\"Sujeitos válidos: {len(valid_sids)}\")\n",
    "\n",
    "# Excluir sujeitos problemáticos\n",
    "exclude = [18, 56, 79, 80, 92, 94]\n",
    "valid_sids = [s for s in valid_sids if s not in exclude]\n",
    "print(f\"Após exclusões: {len(valid_sids)} sujeitos\")\n",
    "\n",
    "# Divisão treino/teste\n",
    "valid_sids = np.array(valid_sids, dtype=int)\n",
    "np.random.shuffle(valid_sids)\n",
    "test_sub = valid_sids[:10]\n",
    "train_sub = valid_sids[10:]\n",
    "\n",
    "print(f\"\\nDivisão: {len(train_sub)} treino, {len(test_sub)} teste\")"
   ]
  },
  {
   "cell_type": "markdown",
   "metadata": {},
   "source": [
    "## 5. Preparação dos datasets"
   ]
  },
  {
   "cell_type": "code",
   "execution_count": 5,
   "metadata": {},
   "outputs": [
    {
     "name": "stdout",
     "output_type": "stream",
     "text": [
      "Shape de X: (64, 24)\n",
      "Shape de y: (64,)\n",
      "Features: 23 antropométricas + 1 frequência = 24\n"
     ]
    }
   ],
   "source": [
    "# Função para criar dataset de treino/teste\n",
    "def build_dataset(sub_ids, ear, pos_id):\n",
    "    X, Y = [], []\n",
    "    \n",
    "    df_ear = df_left if ear == 0 else df_right\n",
    "    df_ear = df_ear.set_index('SubjectID')\n",
    "    \n",
    "    for sid in sub_ids:\n",
    "        key = (sid, ear, pos_id)\n",
    "        if key not in cache or sid not in df_ear.index:\n",
    "            continue\n",
    "        \n",
    "        spec = cache[key]\n",
    "        feats = df_ear.loc[sid, feature_cols].to_numpy(dtype=np.float32)\n",
    "        \n",
    "        # Adicionar frequência como feature\n",
    "        for freq_idx, (freq, mag) in enumerate(zip(tgt_freqs, spec)):\n",
    "            X.append(np.append(feats, freq))\n",
    "            Y.append(mag)\n",
    "    \n",
    "    if not X:\n",
    "        return None, None\n",
    "    \n",
    "    return np.array(X), np.array(Y)\n",
    "\n",
    "# Verificar estrutura dos dados\n",
    "X_test, y_test = build_dataset(train_sub[:1], ear=0, pos_id=0)\n",
    "if X_test is not None:\n",
    "    print(f\"Shape de X: {X_test.shape}\")\n",
    "    print(f\"Shape de y: {y_test.shape}\")\n",
    "    print(f\"Features: 23 antropométricas + 1 frequência = {X_test.shape[1]}\")"
   ]
  },
  {
   "cell_type": "markdown",
   "metadata": {},
   "source": [
    "## 6. Treinamento dos modelos"
   ]
  },
  {
   "cell_type": "code",
   "execution_count": 6,
   "metadata": {},
   "outputs": [
    {
     "name": "stdout",
     "output_type": "stream",
     "text": [
      "Treinando 10 modelos (5 posições × 2 orelhas)...\n",
      "\n",
      "Orelha Esquerda:\n",
      "  Posição 0: 5120 amostras - R²: 90.2%\n",
      "  Posição 1: 5120 amostras - R²: 91.0%\n",
      "  Posição 2: 5120 amostras - R²: 89.3%\n",
      "  Posição 3: 5120 amostras - R²: 93.6%\n",
      "  Posição 4: 5120 amostras - R²: 83.2%\n",
      "Orelha Direita:\n",
      "  Posição 0: 5120 amostras - R²: 90.7%\n",
      "  Posição 1: 5120 amostras - R²: 89.7%\n",
      "  Posição 2: 5120 amostras - R²: 91.5%\n",
      "  Posição 3: 5120 amostras - R²: 94.4%\n",
      "  Posição 4: 5120 amostras - R²: 84.9%\n",
      "\n",
      "Treinamento concluído!\n"
     ]
    }
   ],
   "source": [
    "# Função para calcular R² usando correlação\n",
    "def r2_corr(y, yhat):\n",
    "    r = np.corrcoef(y, yhat)[0,1]\n",
    "    return (r*r) if not np.isnan(r) else 0.0\n",
    "\n",
    "# Configuração do modelo\n",
    "max_feat = int(np.sqrt(24) * 3.5)\n",
    "\n",
    "# Armazenar resultados\n",
    "R2 = {0:[], 1:[]}\n",
    "SD = {0:[], 1:[]}\n",
    "models = {}\n",
    "\n",
    "print(f\"Treinando 10 modelos (5 posições × 2 orelhas)...\\n\")\n",
    "\n",
    "# Treinar modelo para cada orelha e posição\n",
    "for ear in (0, 1):\n",
    "    ear_name = \"Esquerda\" if ear == 0 else \"Direita\"\n",
    "    print(f\"Orelha {ear_name}:\")\n",
    "    \n",
    "    for pid in range(5):\n",
    "        # Preparar dados de treino\n",
    "        X_tr, y_tr = build_dataset(train_sub, ear, pid)\n",
    "        if X_tr is None:\n",
    "            R2[ear].append(0.0)\n",
    "            SD[ear].append(np.nan)\n",
    "            continue\n",
    "        \n",
    "        print(f\"  Posição {pid}: {X_tr.shape[0]} amostras\", end=\"\")\n",
    "        \n",
    "        # Criar e treinar modelo\n",
    "        rf = RandomForestRegressor(\n",
    "            n_estimators=500,\n",
    "            max_features=max_feat,\n",
    "            min_samples_split=2,\n",
    "            min_samples_leaf=5,\n",
    "            bootstrap=True,\n",
    "            oob_score=True,\n",
    "            n_jobs=-1,\n",
    "            random_state=42\n",
    "        )\n",
    "        \n",
    "        rf.fit(X_tr, y_tr)\n",
    "        \n",
    "        # Calcular R² OOB\n",
    "        r2_oob = r2_corr(y_tr, rf.oob_prediction_)\n",
    "        R2[ear].append(r2_oob)\n",
    "        print(f\" - R²: {r2_oob*100:.1f}%\")\n",
    "        \n",
    "        # Avaliar no conjunto de teste\n",
    "        X_te, y_te = build_dataset(test_sub, ear, pid)\n",
    "        if X_te is not None:\n",
    "            y_pred = rf.predict(X_te)\n",
    "            sd_value = np.sqrt(np.mean((y_pred - y_te)**2))\n",
    "            SD[ear].append(sd_value)\n",
    "        else:\n",
    "            SD[ear].append(np.nan)\n",
    "        \n",
    "        models[(ear, pid)] = rf\n",
    "\n",
    "print(\"\\nTreinamento concluído!\")"
   ]
  },
  {
   "cell_type": "markdown",
   "metadata": {},
   "source": [
    "## 7. Resultados"
   ]
  },
  {
   "cell_type": "code",
   "execution_count": 7,
   "metadata": {},
   "outputs": [
    {
     "name": "stdout",
     "output_type": "stream",
     "text": [
      "Coeficiente de Determinação R²\n",
      "=================================================================\n",
      "Orelha | (0°,0°) | (40°,0°) | (320°,0°) | (0°,30°) | (0°,-30°) | Média\n",
      "-----------------------------------------------------------------\n",
      "Esquerda |  90.2% |  91.0% |  89.3% |  93.6% |  83.2% |  89.5%\n",
      "Direita |  90.7% |  89.7% |  91.5% |  94.4% |  84.9% |  90.2%\n",
      "\n",
      "\n",
      "Distorção Espectral SD (dB)\n",
      "=================================================================\n",
      "Orelha | (0°,0°) | (40°,0°) | (320°,0°) | (0°,30°) | (0°,-30°) | Média\n",
      "-----------------------------------------------------------------\n",
      "Esquerda |  4.22 |  3.59 |  4.69 |  3.76 |  4.82 |  4.22\n",
      "Direita |  4.89 |  4.85 |  4.27 |  3.86 |  5.50 |  4.68\n",
      "\n",
      "\n",
      "Desempenho geral:\n",
      "R² médio: 89.8%\n",
      "SD médio: 4.45 dB\n"
     ]
    }
   ],
   "source": [
    "# Tabela de resultados\n",
    "hdr = [\"Orelha\", \"(0°,0°)\", \"(40°,0°)\", \"(320°,0°)\", \"(0°,30°)\", \"(0°,-30°)\", \"Média\"]\n",
    "\n",
    "print(\"Coeficiente de Determinação R²\")\n",
    "print(\"=\"*65)\n",
    "print(\" | \".join(hdr))\n",
    "print(\"-\"*65)\n",
    "\n",
    "for ear, label in ((0, \"Esquerda\"), (1, \"Direita\")):\n",
    "    row = [f\"{v*100:5.1f}%\" for v in R2[ear]]\n",
    "    mean_r2 = np.nanmean(R2[ear])\n",
    "    print(\" | \".join([label] + row + [f\"{mean_r2*100:5.1f}%\"]))\n",
    "\n",
    "print(\"\\n\\nDistorção Espectral SD (dB)\")\n",
    "print(\"=\"*65)\n",
    "print(\" | \".join(hdr))\n",
    "print(\"-\"*65)\n",
    "\n",
    "for ear, label in ((0, \"Esquerda\"), (1, \"Direita\")):\n",
    "    row = [f\"{v:5.2f}\" for v in SD[ear]]\n",
    "    mean_sd = np.nanmean(SD[ear])\n",
    "    print(\" | \".join([label] + row + [f\"{mean_sd:5.2f}\"]))\n",
    "\n",
    "# Resumo\n",
    "overall_r2 = np.mean([np.nanmean(R2[0]), np.nanmean(R2[1])])\n",
    "overall_sd = np.mean([np.nanmean(SD[0]), np.nanmean(SD[1])])\n",
    "\n",
    "print(f\"\\n\\nDesempenho geral:\")\n",
    "print(f\"R² médio: {overall_r2*100:.1f}%\")\n",
    "print(f\"SD médio: {overall_sd:.2f} dB\")"
   ]
  },
  {
   "cell_type": "markdown",
   "metadata": {},
   "source": [
    "## 8. Importância das features"
   ]
  },
  {
   "cell_type": "code",
   "execution_count": 8,
   "metadata": {},
   "outputs": [
    {
     "data": {
      "image/png": "[encoded data removed]",
      "text/plain": [
       "<Figure size 1000x800 with 1 Axes>"
      ]
     },
     "metadata": {},
     "output_type": "display_data"
    },
    {
     "name": "stdout",
     "output_type": "stream",
     "text": [
      "Top 10 features:\n",
      "frequency: 0.7611\n",
      "theta2: 0.0163\n",
      "area_intertragal: 0.0130\n",
      "x4: 0.0119\n",
      "x5: 0.0118\n",
      "d6: 0.0117\n",
      "theta1: 0.0115\n",
      "x2: 0.0114\n",
      "x1: 0.0108\n",
      "d2: 0.0103\n"
     ]
    }
   ],
   "source": [
    "# Calcular importância média\n",
    "feature_names_with_freq = feature_cols + ['frequency']\n",
    "importances = np.zeros(len(feature_names_with_freq))\n",
    "n_models = 0\n",
    "\n",
    "for (ear, pid), model in models.items():\n",
    "    importances += model.feature_importances_\n",
    "    n_models += 1\n",
    "\n",
    "importances /= n_models\n",
    "\n",
    "# Criar dataframe com importâncias\n",
    "importance_df = pd.DataFrame({\n",
    "    'feature': feature_names_with_freq,\n",
    "    'importance': importances\n",
    "}).sort_values('importance', ascending=False)\n",
    "\n",
    "# Visualizar top 15 features\n",
    "plt.figure(figsize=(10, 8))\n",
    "top_features = importance_df.head(15)\n",
    "\n",
    "# Cores por tipo de feature\n",
    "colors = []\n",
    "for f in top_features['feature']:\n",
    "    if 'area' in f:\n",
    "        colors.append('green')\n",
    "    elif f == 'frequency':\n",
    "        colors.append('red')\n",
    "    else:\n",
    "        colors.append('blue')\n",
    "\n",
    "plt.barh(top_features['feature'], top_features['importance'], color=colors)\n",
    "plt.xlabel('Importância')\n",
    "plt.title('Features mais importantes')\n",
    "plt.gca().invert_yaxis()\n",
    "plt.tight_layout()\n",
    "plt.show()\n",
    "\n",
    "# Listar top 10\n",
    "print(\"Top 10 features:\")\n",
    "for i, row in importance_df.head(10).iterrows():\n",
    "    print(f\"{row['feature']}: {row['importance']:.4f}\")"
   ]
  },
  {
   "cell_type": "markdown",
   "metadata": {},
   "source": [
    "## 9. Análise por posição"
   ]
  },
  {
   "cell_type": "code",
   "execution_count": 9,
   "metadata": {},
   "outputs": [
    {
     "data": {
      "image/png": "[encoded data removed]",
      "text/plain": [
       "<Figure size 1200x500 with 2 Axes>"
      ]
     },
     "metadata": {},
     "output_type": "display_data"
    }
   ],
   "source": [
    "# Gráficos de desempenho por posição\n",
    "fig, (ax1, ax2) = plt.subplots(1, 2, figsize=(12, 5))\n",
    "\n",
    "positions = ['(0°,0°)', '(40°,0°)', '(320°,0°)', '(0°,30°)', '(0°,-30°)']\n",
    "x = np.arange(len(positions))\n",
    "width = 0.35\n",
    "\n",
    "# R² por posição\n",
    "ax1.bar(x - width/2, [r*100 for r in R2[0]], width, label='Esquerda', alpha=0.8)\n",
    "ax1.bar(x + width/2, [r*100 for r in R2[1]], width, label='Direita', alpha=0.8)\n",
    "ax1.set_xlabel('Posição')\n",
    "ax1.set_ylabel('R² (%)')\n",
    "ax1.set_title('R² por posição')\n",
    "ax1.set_xticks(x)\n",
    "ax1.set_xticklabels(positions, rotation=45)\n",
    "ax1.legend()\n",
    "ax1.grid(True, alpha=0.3)\n",
    "\n",
    "# SD por posição\n",
    "ax2.bar(x - width/2, SD[0], width, label='Esquerda', alpha=0.8)\n",
    "ax2.bar(x + width/2, SD[1], width, label='Direita', alpha=0.8)\n",
    "ax2.set_xlabel('Posição')\n",
    "ax2.set_ylabel('SD (dB)')\n",
    "ax2.set_title('Distorção por posição')\n",
    "ax2.set_xticks(x)\n",
    "ax2.set_xticklabels(positions, rotation=45)\n",
    "ax2.legend()\n",
    "ax2.grid(True, alpha=0.3)\n",
    "\n",
    "plt.tight_layout()\n",
    "plt.show()"
   ]
  },
  {
   "cell_type": "markdown",
   "metadata": {},
   "source": [
    "## 10. Salvamento dos modelos"
   ]
  },
  {
   "cell_type": "code",
   "execution_count": 10,
   "metadata": {},
   "outputs": [
    {
     "name": "stdout",
     "output_type": "stream",
     "text": [
      "Modelos salvos: 10 arquivos\n",
      "Metadados salvos\n"
     ]
    }
   ],
   "source": [
    "# Salvar modelos treinados\n",
    "import pickle\n",
    "\n",
    "os.makedirs('models', exist_ok=True)\n",
    "\n",
    "# Salvar cada modelo\n",
    "for (ear, pos_id), model in models.items():\n",
    "    ear_name = 'left' if ear == 0 else 'right'\n",
    "    filename = f'models/v3_{ear_name}_pos{pos_id}.pkl'\n",
    "    \n",
    "    with open(filename, 'wb') as f:\n",
    "        pickle.dump(model, f)\n",
    "\n",
    "print(f\"Modelos salvos: {len(models)} arquivos\")\n",
    "\n",
    "# Salvar metadados\n",
    "metadata = {\n",
    "    'version': '3.0',\n",
    "    'features': feature_cols,\n",
    "    'n_features': len(feature_cols),\n",
    "    'positions': pos_tgt,\n",
    "    'frequencies': tgt_freqs.tolist(),\n",
    "    'r2_mean': overall_r2,\n",
    "    'sd_mean': overall_sd\n",
    "}\n",
    "\n",
    "with open('models/v3_metadata.pkl', 'wb') as f:\n",
    "    pickle.dump(metadata, f)\n",
    "\n",
    "print(\"Metadados salvos\")"
   ]
  },
  {
   "cell_type": "markdown",
   "metadata": {},
   "source": [
    "## 11. Conclusões"
   ]
  },
  {
   "cell_type": "code",
   "execution_count": 11,
   "metadata": {},
   "outputs": [
    {
     "name": "stdout",
     "output_type": "stream",
     "text": [
      "RESULTADOS FINAIS\n",
      "==================================================\n",
      "\n",
      "Desempenho:\n",
      "- R²: 89.5% (esquerda), 90.2% (direita)\n",
      "- SD: 4.45 dB\n",
      "\n",
      "Características do modelo:\n",
      "- 23 features antropométricas + frequência\n",
      "- 10 modelos Random Forest (5 posições × 2 orelhas)\n",
      "- Melhor desempenho em elevações altas\n",
      "- Áreas calculadas são features críticas\n"
     ]
    }
   ],
   "source": [
    "# Resumo final\n",
    "print(\"RESULTADOS FINAIS\")\n",
    "print(\"=\"*50)\n",
    "\n",
    "print(f\"\\nDesempenho:\")\n",
    "print(f\"- R²: {np.nanmean(R2[0])*100:.1f}% (esquerda), {np.nanmean(R2[1])*100:.1f}% (direita)\")\n",
    "print(f\"- SD: {np.mean([np.nanmean(SD[0]), np.nanmean(SD[1])]):.2f} dB\")\n",
    "\n",
    "print(\"\\nCaracterísticas do modelo:\")\n",
    "print(\"- 23 features antropométricas + frequência\")\n",
    "print(\"- 10 modelos Random Forest (5 posições × 2 orelhas)\")\n",
    "print(\"- Melhor desempenho em elevações altas\")\n",
    "print(\"- Áreas calculadas são features críticas\")"
   ]
  }
 ],
 "metadata": {
  "kernelspec": {
   "display_name": "Python 3",
   "language": "python",
   "name": "python3"
  },
  "language_info": {
   "codemirror_mode": {
    "name": "ipython",
    "version": 3
   },
   "file_extension": ".py",
   "mimetype": "text/x-python",
   "name": "python",
   "nbconvert_exporter": "python",
   "pygments_lexer": "ipython3",
   "version": "3.12.3"
  }
 },
 "nbformat": 4,
 "nbformat_minor": 4
}
